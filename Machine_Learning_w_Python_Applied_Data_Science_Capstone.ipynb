{
  "nbformat": 4,
  "nbformat_minor": 0,
  "metadata": {
    "colab": {
      "name": "Machine Learning w/ Python: Applied Data Science Capstone.ipynb",
      "version": "0.3.2",
      "provenance": [],
      "collapsed_sections": [],
      "include_colab_link": true
    },
    "kernelspec": {
      "name": "python3",
      "display_name": "Python 3"
    }
  },
  "cells": [
    {
      "cell_type": "markdown",
      "metadata": {
        "id": "view-in-github",
        "colab_type": "text"
      },
      "source": [
        "<a href=\"https://colab.research.google.com/github/MaguireMaName/Coursera_Capstone/blob/master/Machine_Learning_w_Python_Applied_Data_Science_Capstone.ipynb\" target=\"_parent\"><img src=\"https://colab.research.google.com/assets/colab-badge.svg\" alt=\"Open In Colab\"/></a>"
      ]
    },
    {
      "cell_type": "markdown",
      "metadata": {
        "id": "Tq-BkN7jkySM",
        "colab_type": "text"
      },
      "source": [
        "## Machine Learning with Python\n",
        "*For the Applied Data Science Capstone Project*"
      ]
    },
    {
      "cell_type": "code",
      "metadata": {
        "id": "UgI25mW9kxSp",
        "colab_type": "code",
        "colab": {}
      },
      "source": [
        "# bring in dependencies \n",
        "import pandas as pd\n",
        "import numpy as np\n",
        "from bs4 import BeautifulSoup\n",
        "import requests as rq"
      ],
      "execution_count": 0,
      "outputs": []
    },
    {
      "cell_type": "code",
      "metadata": {
        "id": "a4iV8Wqpllo3",
        "colab_type": "code",
        "outputId": "5fdfd3a7-47d1-4fec-ae4f-4fa10999bf90",
        "colab": {
          "base_uri": "https://localhost:8080/",
          "height": 34
        }
      },
      "source": [
        "# define url for scraping and print\n",
        "\n",
        "url = \"https://en.wikipedia.org/wiki/List_of_postal_codes_of_Canada:_M\"\n",
        "print(url)"
      ],
      "execution_count": 180,
      "outputs": [
        {
          "output_type": "stream",
          "text": [
            "https://en.wikipedia.org/wiki/List_of_postal_codes_of_Canada:_M\n"
          ],
          "name": "stdout"
        }
      ]
    },
    {
      "cell_type": "code",
      "metadata": {
        "id": "y9ORQmMa6I4x",
        "colab_type": "code",
        "colab": {}
      },
      "source": [
        "response = rq.get(url)\n",
        "soup = BeautifulSoup(response.text, 'html.parser')\n",
        "\n",
        "#print(soup)"
      ],
      "execution_count": 0,
      "outputs": []
    },
    {
      "cell_type": "code",
      "metadata": {
        "id": "Eq-g64cO7EIJ",
        "colab_type": "code",
        "colab": {}
      },
      "source": [
        "table = soup.find('table', {'class':'wikitable sortable'}).tbody\n",
        "#print(table)\n",
        "\n",
        "rows = table.find_all('tr')\n",
        "\n",
        "columns = [v.text.replace('\\n','') for v in rows[0].find_all('th')]\n",
        "\n",
        "df_a = pd.DataFrame(columns=columns)\n",
        "\n",
        "for i in range(1, len(rows)):\n",
        "    tds = rows[i].find_all('td')\n",
        "    \n",
        "    if len(tds) ==4:\n",
        "      values = [tds[0].text, tds[1].text,'', tds[2].text, tds[3].text.replace('\\n','').replace('\\xa0','')]\n",
        "    else:\n",
        "      values = [td.text.replace('\\n','').replace('\\xa0','') for td in tds]\n",
        "    \n",
        "    df_a = df_a.append(pd.Series(values, index=columns), ignore_index=True)\n"
      ],
      "execution_count": 0,
      "outputs": []
    },
    {
      "cell_type": "code",
      "metadata": {
        "id": "XHM0kmfR0_yv",
        "colab_type": "code",
        "outputId": "f4b3d553-9ce1-4659-c2a7-c185c3870d25",
        "colab": {
          "base_uri": "https://localhost:8080/",
          "height": 34
        }
      },
      "source": [
        "# dimensions before aggregation\n",
        "\n",
        "df_a.shape"
      ],
      "execution_count": 183,
      "outputs": [
        {
          "output_type": "execute_result",
          "data": {
            "text/plain": [
              "(288, 3)"
            ]
          },
          "metadata": {
            "tags": []
          },
          "execution_count": 183
        }
      ]
    },
    {
      "cell_type": "code",
      "metadata": {
        "id": "ruvLHljC5jdM",
        "colab_type": "code",
        "colab": {}
      },
      "source": [
        "# aggregate data\n",
        "\n",
        "df_b = df_a.groupby(['Postcode','Borough']).agg(lambda x: x.tolist()).reset_index()"
      ],
      "execution_count": 0,
      "outputs": []
    },
    {
      "cell_type": "code",
      "metadata": {
        "id": "wtMA6pAN5PyT",
        "colab_type": "code",
        "colab": {
          "base_uri": "https://localhost:8080/",
          "height": 34
        },
        "outputId": "7fabbdfa-62e8-4ecc-d340-b626a64dbebf"
      },
      "source": [
        "df_b.shape"
      ],
      "execution_count": 185,
      "outputs": [
        {
          "output_type": "execute_result",
          "data": {
            "text/plain": [
              "(180, 3)"
            ]
          },
          "metadata": {
            "tags": []
          },
          "execution_count": 185
        }
      ]
    },
    {
      "cell_type": "code",
      "metadata": {
        "id": "HWX06ryAGcQq",
        "colab_type": "code",
        "outputId": "a54db99b-b7a1-457d-808b-eae8a85b0bc4",
        "colab": {
          "base_uri": "https://localhost:8080/",
          "height": 206
        }
      },
      "source": [
        "# check results\n",
        "\n",
        "df_b.head()"
      ],
      "execution_count": 186,
      "outputs": [
        {
          "output_type": "execute_result",
          "data": {
            "text/html": [
              "<div>\n",
              "<style scoped>\n",
              "    .dataframe tbody tr th:only-of-type {\n",
              "        vertical-align: middle;\n",
              "    }\n",
              "\n",
              "    .dataframe tbody tr th {\n",
              "        vertical-align: top;\n",
              "    }\n",
              "\n",
              "    .dataframe thead th {\n",
              "        text-align: right;\n",
              "    }\n",
              "</style>\n",
              "<table border=\"1\" class=\"dataframe\">\n",
              "  <thead>\n",
              "    <tr style=\"text-align: right;\">\n",
              "      <th></th>\n",
              "      <th>Postcode</th>\n",
              "      <th>Borough</th>\n",
              "      <th>Neighbourhood</th>\n",
              "    </tr>\n",
              "  </thead>\n",
              "  <tbody>\n",
              "    <tr>\n",
              "      <th>0</th>\n",
              "      <td>M1A</td>\n",
              "      <td>Not assigned</td>\n",
              "      <td>[Not assigned]</td>\n",
              "    </tr>\n",
              "    <tr>\n",
              "      <th>1</th>\n",
              "      <td>M1B</td>\n",
              "      <td>Scarborough</td>\n",
              "      <td>[Rouge, Malvern]</td>\n",
              "    </tr>\n",
              "    <tr>\n",
              "      <th>2</th>\n",
              "      <td>M1C</td>\n",
              "      <td>Scarborough</td>\n",
              "      <td>[Highland Creek, Rouge Hill, Port Union]</td>\n",
              "    </tr>\n",
              "    <tr>\n",
              "      <th>3</th>\n",
              "      <td>M1E</td>\n",
              "      <td>Scarborough</td>\n",
              "      <td>[Guildwood, Morningside, West Hill]</td>\n",
              "    </tr>\n",
              "    <tr>\n",
              "      <th>4</th>\n",
              "      <td>M1G</td>\n",
              "      <td>Scarborough</td>\n",
              "      <td>[Woburn]</td>\n",
              "    </tr>\n",
              "  </tbody>\n",
              "</table>\n",
              "</div>"
            ],
            "text/plain": [
              "  Postcode       Borough                             Neighbourhood\n",
              "0      M1A  Not assigned                            [Not assigned]\n",
              "1      M1B   Scarborough                          [Rouge, Malvern]\n",
              "2      M1C   Scarborough  [Highland Creek, Rouge Hill, Port Union]\n",
              "3      M1E   Scarborough       [Guildwood, Morningside, West Hill]\n",
              "4      M1G   Scarborough                                  [Woburn]"
            ]
          },
          "metadata": {
            "tags": []
          },
          "execution_count": 186
        }
      ]
    },
    {
      "cell_type": "code",
      "metadata": {
        "id": "rnWZRZHCNBDY",
        "colab_type": "code",
        "colab": {}
      },
      "source": [
        "# where neighbourhood is not assigned, replace it with borough\n",
        "\n",
        "df_b['Neighbourhood'] = np.where(df_b['Neighbourhood'] == \"Not assigned\", df_b['Borough'], df_b['Neighbourhood'])\n"
      ],
      "execution_count": 0,
      "outputs": []
    },
    {
      "cell_type": "code",
      "metadata": {
        "id": "eENlKVmH4MUS",
        "colab_type": "code",
        "colab": {
          "base_uri": "https://localhost:8080/",
          "height": 34
        },
        "outputId": "a7f95a5a-d1ed-49bf-acf6-66bd31746d94"
      },
      "source": [
        "# exception table\n",
        "\n",
        "x_neighbourhood = df_b.loc[(df_b['Neighbourhood'] == \"Not assigned\")]\n",
        "x_neighbourhood.shape"
      ],
      "execution_count": 188,
      "outputs": [
        {
          "output_type": "execute_result",
          "data": {
            "text/plain": [
              "(0, 3)"
            ]
          },
          "metadata": {
            "tags": []
          },
          "execution_count": 188
        }
      ]
    },
    {
      "cell_type": "code",
      "metadata": {
        "id": "qTv0cMFP4T7x",
        "colab_type": "code",
        "colab": {
          "base_uri": "https://localhost:8080/",
          "height": 34
        },
        "outputId": "a4f6f24d-293d-4d09-e21a-df5077b15210"
      },
      "source": [
        "# exception table\n",
        "\n",
        "x_borough = df_b.loc[(df_b['Borough'] == \"Not assigned\")]\n",
        "x_borough.shape"
      ],
      "execution_count": 189,
      "outputs": [
        {
          "output_type": "execute_result",
          "data": {
            "text/plain": [
              "(77, 3)"
            ]
          },
          "metadata": {
            "tags": []
          },
          "execution_count": 189
        }
      ]
    },
    {
      "cell_type": "code",
      "metadata": {
        "id": "fjrmiLz94qqN",
        "colab_type": "code",
        "colab": {}
      },
      "source": [
        "# don't process obs. where borough = 'Not assigned'\n",
        "\n",
        "df_c = df_b.drop(df_b[df_b.Borough == \"Not assigned\"].index)\n"
      ],
      "execution_count": 0,
      "outputs": []
    },
    {
      "cell_type": "code",
      "metadata": {
        "id": "QpRhNFiC5-EB",
        "colab_type": "code",
        "colab": {
          "base_uri": "https://localhost:8080/",
          "height": 34
        },
        "outputId": "a4000d78-e502-4f69-e154-d87365b1e24b"
      },
      "source": [
        "# exception table\n",
        "\n",
        "x_borough = df_c.loc[(df_b['Borough'] == \"Not assigned\")]\n",
        "x_borough.shape"
      ],
      "execution_count": 191,
      "outputs": [
        {
          "output_type": "execute_result",
          "data": {
            "text/plain": [
              "(0, 3)"
            ]
          },
          "metadata": {
            "tags": []
          },
          "execution_count": 191
        }
      ]
    },
    {
      "cell_type": "code",
      "metadata": {
        "id": "A_bBtyfO6Z4E",
        "colab_type": "code",
        "outputId": "5072887f-837c-46a4-ada4-3b78ec57c8d0",
        "colab": {
          "base_uri": "https://localhost:8080/",
          "height": 34
        }
      },
      "source": [
        "# dimensions after aggregation\n",
        "df_c.shape"
      ],
      "execution_count": 192,
      "outputs": [
        {
          "output_type": "execute_result",
          "data": {
            "text/plain": [
              "(103, 3)"
            ]
          },
          "metadata": {
            "tags": []
          },
          "execution_count": 192
        }
      ]
    }
  ]
}