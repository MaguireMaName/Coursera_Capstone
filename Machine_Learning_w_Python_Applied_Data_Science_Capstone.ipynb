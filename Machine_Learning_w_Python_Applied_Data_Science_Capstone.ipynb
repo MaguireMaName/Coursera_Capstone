{
  "nbformat": 4,
  "nbformat_minor": 0,
  "metadata": {
    "colab": {
      "name": "Machine Learning w/ Python: Applied Data Science Capstone.ipynb",
      "version": "0.3.2",
      "provenance": [],
      "collapsed_sections": [],
      "include_colab_link": true
    },
    "kernelspec": {
      "name": "python3",
      "display_name": "Python 3"
    }
  },
  "cells": [
    {
      "cell_type": "markdown",
      "metadata": {
        "id": "view-in-github",
        "colab_type": "text"
      },
      "source": [
        "<a href=\"https://colab.research.google.com/github/MaguireMaName/Coursera_Capstone/blob/master/Machine_Learning_w_Python_Applied_Data_Science_Capstone.ipynb\" target=\"_parent\"><img src=\"https://colab.research.google.com/assets/colab-badge.svg\" alt=\"Open In Colab\"/></a>"
      ]
    },
    {
      "cell_type": "markdown",
      "metadata": {
        "id": "Tq-BkN7jkySM",
        "colab_type": "text"
      },
      "source": [
        "## Machine Learning with Python\n",
        "*For the Applied Data Science Capstone Project*"
      ]
    },
    {
      "cell_type": "code",
      "metadata": {
        "id": "UgI25mW9kxSp",
        "colab_type": "code",
        "colab": {}
      },
      "source": [
        "import pandas as pd\n",
        "import numpy as np\n",
        "from bs4 import BeautifulSoup\n",
        "import requests as rq"
      ],
      "execution_count": 0,
      "outputs": []
    },
    {
      "cell_type": "code",
      "metadata": {
        "id": "a4iV8Wqpllo3",
        "colab_type": "code",
        "outputId": "2a7cea33-5b6a-4e58-af5b-afb2058f9e0d",
        "colab": {
          "base_uri": "https://localhost:8080/",
          "height": 34
        }
      },
      "source": [
        "url = \"https://en.wikipedia.org/wiki/List_of_postal_codes_of_Canada:_M\"\n",
        "print(url)"
      ],
      "execution_count": 20,
      "outputs": [
        {
          "output_type": "stream",
          "text": [
            "https://en.wikipedia.org/wiki/List_of_postal_codes_of_Canada:_M\n"
          ],
          "name": "stdout"
        }
      ]
    },
    {
      "cell_type": "code",
      "metadata": {
        "id": "y9ORQmMa6I4x",
        "colab_type": "code",
        "colab": {}
      },
      "source": [
        "response = rq.get(url)\n",
        "soup = BeautifulSoup(response.text, 'html.parser')\n",
        "\n",
        "#print(soup)"
      ],
      "execution_count": 0,
      "outputs": []
    },
    {
      "cell_type": "code",
      "metadata": {
        "id": "Eq-g64cO7EIJ",
        "colab_type": "code",
        "colab": {
          "base_uri": "https://localhost:8080/",
          "height": 2218
        },
        "outputId": "82013a98-b69a-4f62-a6f4-916e524122aa"
      },
      "source": [
        "table = soup.find('table', {'class':'wikitable sortable'}).tbody\n",
        "#print(table)\n",
        "\n",
        "rows = table.find_all('tr')\n",
        "\n",
        "columns = [v.text.replace('\\n','') for v in rows[0].find_all('th')]\n",
        "\n",
        "df = pd.DataFrame(columns=columns)\n",
        "\n",
        "for i in range(1, len(rows)):\n",
        "    tds = rows[i].find_all('td')\n",
        "    \n",
        "    if len(tds) ==4:\n",
        "      values = [tds[0].text, tds[1].text,'', tds[2].text, tds[3].text.replace('\\n','').replace('\\xa0','')]\n",
        "    else:\n",
        "      values = [td.text.replace('\\n','').replace('\\xa0','') for td in tds]\n",
        "    \n",
        "    df = df.append(pd.Series(values, index=columns), ignore_index=True)\n",
        "print(df)"
      ],
      "execution_count": 39,
      "outputs": [
        {
          "output_type": "stream",
          "text": [
            "    Postcode           Borough  \\\n",
            "0        M1A      Not assigned   \n",
            "1        M2A      Not assigned   \n",
            "2        M3A        North York   \n",
            "3        M4A        North York   \n",
            "4        M5A  Downtown Toronto   \n",
            "5        M5A  Downtown Toronto   \n",
            "6        M6A        North York   \n",
            "7        M6A        North York   \n",
            "8        M7A      Queen's Park   \n",
            "9        M8A      Not assigned   \n",
            "10       M9A         Etobicoke   \n",
            "11       M1B       Scarborough   \n",
            "12       M1B       Scarborough   \n",
            "13       M2B      Not assigned   \n",
            "14       M3B        North York   \n",
            "15       M4B         East York   \n",
            "16       M4B         East York   \n",
            "17       M5B  Downtown Toronto   \n",
            "18       M5B  Downtown Toronto   \n",
            "19       M6B        North York   \n",
            "20       M7B      Not assigned   \n",
            "21       M8B      Not assigned   \n",
            "22       M9B         Etobicoke   \n",
            "23       M9B         Etobicoke   \n",
            "24       M9B         Etobicoke   \n",
            "25       M9B         Etobicoke   \n",
            "26       M9B         Etobicoke   \n",
            "27       M1C       Scarborough   \n",
            "28       M1C       Scarborough   \n",
            "29       M1C       Scarborough   \n",
            "..       ...               ...   \n",
            "258      M9X      Not assigned   \n",
            "259      M1Y      Not assigned   \n",
            "260      M2Y      Not assigned   \n",
            "261      M3Y      Not assigned   \n",
            "262      M4Y  Downtown Toronto   \n",
            "263      M5Y      Not assigned   \n",
            "264      M6Y      Not assigned   \n",
            "265      M7Y      East Toronto   \n",
            "266      M8Y         Etobicoke   \n",
            "267      M8Y         Etobicoke   \n",
            "268      M8Y         Etobicoke   \n",
            "269      M8Y         Etobicoke   \n",
            "270      M8Y         Etobicoke   \n",
            "271      M8Y         Etobicoke   \n",
            "272      M8Y         Etobicoke   \n",
            "273      M8Y         Etobicoke   \n",
            "274      M9Y      Not assigned   \n",
            "275      M1Z      Not assigned   \n",
            "276      M2Z      Not assigned   \n",
            "277      M3Z      Not assigned   \n",
            "278      M4Z      Not assigned   \n",
            "279      M5Z      Not assigned   \n",
            "280      M6Z      Not assigned   \n",
            "281      M7Z      Not assigned   \n",
            "282      M8Z         Etobicoke   \n",
            "283      M8Z         Etobicoke   \n",
            "284      M8Z         Etobicoke   \n",
            "285      M8Z         Etobicoke   \n",
            "286      M8Z         Etobicoke   \n",
            "287      M9Z      Not assigned   \n",
            "\n",
            "                                         Neighbourhood  \n",
            "0                                         Not assigned  \n",
            "1                                         Not assigned  \n",
            "2                                            Parkwoods  \n",
            "3                                     Victoria Village  \n",
            "4                                         Harbourfront  \n",
            "5                                          Regent Park  \n",
            "6                                     Lawrence Heights  \n",
            "7                                       Lawrence Manor  \n",
            "8                                         Not assigned  \n",
            "9                                         Not assigned  \n",
            "10                                    Islington Avenue  \n",
            "11                                               Rouge  \n",
            "12                                             Malvern  \n",
            "13                                        Not assigned  \n",
            "14                                     Don Mills North  \n",
            "15                                    Woodbine Gardens  \n",
            "16                                       Parkview Hill  \n",
            "17                                             Ryerson  \n",
            "18                                     Garden District  \n",
            "19                                           Glencairn  \n",
            "20                                        Not assigned  \n",
            "21                                        Not assigned  \n",
            "22                                          Cloverdale  \n",
            "23                                           Islington  \n",
            "24                                        Martin Grove  \n",
            "25                                    Princess Gardens  \n",
            "26                                     West Deane Park  \n",
            "27                                      Highland Creek  \n",
            "28                                          Rouge Hill  \n",
            "29                                          Port Union  \n",
            "..                                                 ...  \n",
            "258                                       Not assigned  \n",
            "259                                       Not assigned  \n",
            "260                                       Not assigned  \n",
            "261                                       Not assigned  \n",
            "262                               Church and Wellesley  \n",
            "263                                       Not assigned  \n",
            "264                                       Not assigned  \n",
            "265  Business Reply Mail Processing Centre 969 Eastern  \n",
            "266                                         Humber Bay  \n",
            "267                                   King's Mill Park  \n",
            "268                           Kingsway Park South East  \n",
            "269                                          Mimico NE  \n",
            "270                                     Old Mill South  \n",
            "271                                 The Queensway East  \n",
            "272                              Royal York South East  \n",
            "273                                           Sunnylea  \n",
            "274                                       Not assigned  \n",
            "275                                       Not assigned  \n",
            "276                                       Not assigned  \n",
            "277                                       Not assigned  \n",
            "278                                       Not assigned  \n",
            "279                                       Not assigned  \n",
            "280                                       Not assigned  \n",
            "281                                       Not assigned  \n",
            "282                           Kingsway Park South West  \n",
            "283                                          Mimico NW  \n",
            "284                                 The Queensway West  \n",
            "285                              Royal York South West  \n",
            "286                                     South of Bloor  \n",
            "287                                       Not assigned  \n",
            "\n",
            "[288 rows x 3 columns]\n"
          ],
          "name": "stdout"
        }
      ]
    },
    {
      "cell_type": "code",
      "metadata": {
        "id": "ruvLHljC5jdM",
        "colab_type": "code",
        "colab": {}
      },
      "source": [
        ""
      ],
      "execution_count": 0,
      "outputs": []
    }
  ]
}