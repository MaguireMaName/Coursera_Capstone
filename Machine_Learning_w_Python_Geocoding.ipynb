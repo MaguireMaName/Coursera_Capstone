{
  "nbformat": 4,
  "nbformat_minor": 0,
  "metadata": {
    "colab": {
      "name": "Machine Learning w/ Python: Applied Data Science Capstone.ipynb",
      "version": "0.3.2",
      "provenance": [],
      "collapsed_sections": [],
      "include_colab_link": true
    },
    "kernelspec": {
      "name": "python3",
      "display_name": "Python 3"
    }
  },
  "cells": [
    {
      "cell_type": "markdown",
      "metadata": {
        "id": "view-in-github",
        "colab_type": "text"
      },
      "source": [
        "<a href=\"https://colab.research.google.com/github/MaguireMaName/Coursera_Capstone/blob/master/Machine_Learning_w_Python_Geocoding.ipynb\" target=\"_parent\"><img src=\"https://colab.research.google.com/assets/colab-badge.svg\" alt=\"Open In Colab\"/></a>"
      ]
    },
    {
      "cell_type": "code",
      "metadata": {
        "id": "qw76k46tB9Cs",
        "colab_type": "code",
        "colab": {
          "base_uri": "https://localhost:8080/",
          "height": 207
        },
        "outputId": "3229dc96-8422-4582-efc0-18fdef1d3dd0"
      },
      "source": [
        "!pip install geocoder"
      ],
      "execution_count": 71,
      "outputs": [
        {
          "output_type": "stream",
          "text": [
            "Requirement already satisfied: geocoder in /usr/local/lib/python3.6/dist-packages (1.38.1)\n",
            "Requirement already satisfied: six in /usr/local/lib/python3.6/dist-packages (from geocoder) (1.12.0)\n",
            "Requirement already satisfied: ratelim in /usr/local/lib/python3.6/dist-packages (from geocoder) (0.1.6)\n",
            "Requirement already satisfied: requests in /usr/local/lib/python3.6/dist-packages (from geocoder) (2.21.0)\n",
            "Requirement already satisfied: click in /usr/local/lib/python3.6/dist-packages (from geocoder) (7.0)\n",
            "Requirement already satisfied: future in /usr/local/lib/python3.6/dist-packages (from geocoder) (0.16.0)\n",
            "Requirement already satisfied: decorator in /usr/local/lib/python3.6/dist-packages (from ratelim->geocoder) (4.4.0)\n",
            "Requirement already satisfied: idna<2.9,>=2.5 in /usr/local/lib/python3.6/dist-packages (from requests->geocoder) (2.8)\n",
            "Requirement already satisfied: urllib3<1.25,>=1.21.1 in /usr/local/lib/python3.6/dist-packages (from requests->geocoder) (1.24.3)\n",
            "Requirement already satisfied: certifi>=2017.4.17 in /usr/local/lib/python3.6/dist-packages (from requests->geocoder) (2019.3.9)\n",
            "Requirement already satisfied: chardet<3.1.0,>=3.0.2 in /usr/local/lib/python3.6/dist-packages (from requests->geocoder) (3.0.4)\n"
          ],
          "name": "stdout"
        }
      ]
    },
    {
      "cell_type": "code",
      "metadata": {
        "id": "UgI25mW9kxSp",
        "colab_type": "code",
        "colab": {}
      },
      "source": [
        "# bring in dependencies \n",
        "import geocoder\n",
        "import pandas as pd\n",
        "import numpy as np\n",
        "from bs4 import BeautifulSoup\n",
        "import requests as rq"
      ],
      "execution_count": 0,
      "outputs": []
    },
    {
      "cell_type": "markdown",
      "metadata": {
        "id": "Tq-BkN7jkySM",
        "colab_type": "text"
      },
      "source": [
        "## Machine Learning with Python: Dataframe of postal code, neighborhood, & borough\n",
        "*For the Applied Data Science Capstone Project*"
      ]
    },
    {
      "cell_type": "code",
      "metadata": {
        "id": "a4iV8Wqpllo3",
        "colab_type": "code",
        "outputId": "e50df824-efdf-4c6e-efed-a26fd820c4d5",
        "colab": {
          "base_uri": "https://localhost:8080/",
          "height": 34
        }
      },
      "source": [
        "# define url for scraping and print\n",
        "\n",
        "url = \"https://en.wikipedia.org/wiki/List_of_postal_codes_of_Canada:_M\"\n",
        "print(url)"
      ],
      "execution_count": 73,
      "outputs": [
        {
          "output_type": "stream",
          "text": [
            "https://en.wikipedia.org/wiki/List_of_postal_codes_of_Canada:_M\n"
          ],
          "name": "stdout"
        }
      ]
    },
    {
      "cell_type": "code",
      "metadata": {
        "id": "y9ORQmMa6I4x",
        "colab_type": "code",
        "colab": {}
      },
      "source": [
        "response = rq.get(url)\n",
        "soup = BeautifulSoup(response.text, 'html.parser')\n",
        "\n",
        "#print(soup)"
      ],
      "execution_count": 0,
      "outputs": []
    },
    {
      "cell_type": "code",
      "metadata": {
        "id": "Eq-g64cO7EIJ",
        "colab_type": "code",
        "colab": {}
      },
      "source": [
        "table = soup.find('table', {'class':'wikitable sortable'}).tbody\n",
        "#print(table)\n",
        "\n",
        "rows = table.find_all('tr')\n",
        "\n",
        "columns = [v.text.replace('\\n','') for v in rows[0].find_all('th')]\n",
        "\n",
        "df_a = pd.DataFrame(columns=columns)\n",
        "\n",
        "for i in range(1, len(rows)):\n",
        "    tds = rows[i].find_all('td')\n",
        "    \n",
        "    if len(tds) ==4:\n",
        "      values = [tds[0].text, tds[1].text,'', tds[2].text, tds[3].text.replace('\\n','').replace('\\xa0','')]\n",
        "    else:\n",
        "      values = [td.text.replace('\\n','').replace('\\xa0','') for td in tds]\n",
        "    \n",
        "    df_a = df_a.append(pd.Series(values, index=columns), ignore_index=True)\n"
      ],
      "execution_count": 0,
      "outputs": []
    },
    {
      "cell_type": "code",
      "metadata": {
        "id": "XHM0kmfR0_yv",
        "colab_type": "code",
        "outputId": "cfac4e26-1156-4d84-b037-23a056255599",
        "colab": {
          "base_uri": "https://localhost:8080/",
          "height": 34
        }
      },
      "source": [
        "# dimensions before aggregation\n",
        "\n",
        "df_a.shape"
      ],
      "execution_count": 76,
      "outputs": [
        {
          "output_type": "execute_result",
          "data": {
            "text/plain": [
              "(288, 3)"
            ]
          },
          "metadata": {
            "tags": []
          },
          "execution_count": 76
        }
      ]
    },
    {
      "cell_type": "code",
      "metadata": {
        "id": "ruvLHljC5jdM",
        "colab_type": "code",
        "colab": {}
      },
      "source": [
        "# aggregate data\n",
        "\n",
        "df_b = df_a.groupby(['Postcode','Borough']).agg(lambda x: x.tolist()).reset_index()"
      ],
      "execution_count": 0,
      "outputs": []
    },
    {
      "cell_type": "code",
      "metadata": {
        "id": "wtMA6pAN5PyT",
        "colab_type": "code",
        "outputId": "4c3e1eab-f46f-4628-cdc5-e85de3acdd5a",
        "colab": {
          "base_uri": "https://localhost:8080/",
          "height": 34
        }
      },
      "source": [
        "df_b.shape"
      ],
      "execution_count": 78,
      "outputs": [
        {
          "output_type": "execute_result",
          "data": {
            "text/plain": [
              "(180, 3)"
            ]
          },
          "metadata": {
            "tags": []
          },
          "execution_count": 78
        }
      ]
    },
    {
      "cell_type": "code",
      "metadata": {
        "id": "HWX06ryAGcQq",
        "colab_type": "code",
        "outputId": "8374f60a-af22-49e1-e7e6-34f868a79716",
        "colab": {
          "base_uri": "https://localhost:8080/",
          "height": 206
        }
      },
      "source": [
        "# check results\n",
        "\n",
        "df_b.head()"
      ],
      "execution_count": 79,
      "outputs": [
        {
          "output_type": "execute_result",
          "data": {
            "text/html": [
              "<div>\n",
              "<style scoped>\n",
              "    .dataframe tbody tr th:only-of-type {\n",
              "        vertical-align: middle;\n",
              "    }\n",
              "\n",
              "    .dataframe tbody tr th {\n",
              "        vertical-align: top;\n",
              "    }\n",
              "\n",
              "    .dataframe thead th {\n",
              "        text-align: right;\n",
              "    }\n",
              "</style>\n",
              "<table border=\"1\" class=\"dataframe\">\n",
              "  <thead>\n",
              "    <tr style=\"text-align: right;\">\n",
              "      <th></th>\n",
              "      <th>Postcode</th>\n",
              "      <th>Borough</th>\n",
              "      <th>Neighbourhood</th>\n",
              "    </tr>\n",
              "  </thead>\n",
              "  <tbody>\n",
              "    <tr>\n",
              "      <th>0</th>\n",
              "      <td>M1A</td>\n",
              "      <td>Not assigned</td>\n",
              "      <td>[Not assigned]</td>\n",
              "    </tr>\n",
              "    <tr>\n",
              "      <th>1</th>\n",
              "      <td>M1B</td>\n",
              "      <td>Scarborough</td>\n",
              "      <td>[Rouge, Malvern]</td>\n",
              "    </tr>\n",
              "    <tr>\n",
              "      <th>2</th>\n",
              "      <td>M1C</td>\n",
              "      <td>Scarborough</td>\n",
              "      <td>[Highland Creek, Rouge Hill, Port Union]</td>\n",
              "    </tr>\n",
              "    <tr>\n",
              "      <th>3</th>\n",
              "      <td>M1E</td>\n",
              "      <td>Scarborough</td>\n",
              "      <td>[Guildwood, Morningside, West Hill]</td>\n",
              "    </tr>\n",
              "    <tr>\n",
              "      <th>4</th>\n",
              "      <td>M1G</td>\n",
              "      <td>Scarborough</td>\n",
              "      <td>[Woburn]</td>\n",
              "    </tr>\n",
              "  </tbody>\n",
              "</table>\n",
              "</div>"
            ],
            "text/plain": [
              "  Postcode       Borough                             Neighbourhood\n",
              "0      M1A  Not assigned                            [Not assigned]\n",
              "1      M1B   Scarborough                          [Rouge, Malvern]\n",
              "2      M1C   Scarborough  [Highland Creek, Rouge Hill, Port Union]\n",
              "3      M1E   Scarborough       [Guildwood, Morningside, West Hill]\n",
              "4      M1G   Scarborough                                  [Woburn]"
            ]
          },
          "metadata": {
            "tags": []
          },
          "execution_count": 79
        }
      ]
    },
    {
      "cell_type": "code",
      "metadata": {
        "id": "rnWZRZHCNBDY",
        "colab_type": "code",
        "colab": {}
      },
      "source": [
        "# where neighbourhood is not assigned, replace it with borough\n",
        "\n",
        "df_b['Neighbourhood'] = np.where(df_b['Neighbourhood'] == \"Not assigned\", df_b['Borough'], df_b['Neighbourhood'])\n"
      ],
      "execution_count": 0,
      "outputs": []
    },
    {
      "cell_type": "code",
      "metadata": {
        "id": "eENlKVmH4MUS",
        "colab_type": "code",
        "outputId": "db731cf6-3327-44a8-9fe8-9cdea64d3e82",
        "colab": {
          "base_uri": "https://localhost:8080/",
          "height": 34
        }
      },
      "source": [
        "# exception table\n",
        "\n",
        "x_neighbourhood = df_b.loc[(df_b['Neighbourhood'] == \"Not assigned\")]\n",
        "x_neighbourhood.shape"
      ],
      "execution_count": 81,
      "outputs": [
        {
          "output_type": "execute_result",
          "data": {
            "text/plain": [
              "(0, 3)"
            ]
          },
          "metadata": {
            "tags": []
          },
          "execution_count": 81
        }
      ]
    },
    {
      "cell_type": "code",
      "metadata": {
        "id": "qTv0cMFP4T7x",
        "colab_type": "code",
        "outputId": "7508579b-7a78-46e2-a3c7-8194c7242b4a",
        "colab": {
          "base_uri": "https://localhost:8080/",
          "height": 34
        }
      },
      "source": [
        "# exception table\n",
        "\n",
        "x_borough = df_b.loc[(df_b['Borough'] == \"Not assigned\")]\n",
        "x_borough.shape"
      ],
      "execution_count": 82,
      "outputs": [
        {
          "output_type": "execute_result",
          "data": {
            "text/plain": [
              "(77, 3)"
            ]
          },
          "metadata": {
            "tags": []
          },
          "execution_count": 82
        }
      ]
    },
    {
      "cell_type": "code",
      "metadata": {
        "id": "fjrmiLz94qqN",
        "colab_type": "code",
        "colab": {}
      },
      "source": [
        "# don't process obs. where borough = 'Not assigned'\n",
        "\n",
        "df_c = df_b.drop(df_b[df_b.Borough == \"Not assigned\"].index)\n"
      ],
      "execution_count": 0,
      "outputs": []
    },
    {
      "cell_type": "code",
      "metadata": {
        "id": "QpRhNFiC5-EB",
        "colab_type": "code",
        "outputId": "88761049-fa51-47b8-d02e-389ba80ed357",
        "colab": {
          "base_uri": "https://localhost:8080/",
          "height": 34
        }
      },
      "source": [
        "# exception table\n",
        "\n",
        "x_borough = df_c.loc[(df_b['Borough'] == \"Not assigned\")]\n",
        "x_borough.shape"
      ],
      "execution_count": 84,
      "outputs": [
        {
          "output_type": "execute_result",
          "data": {
            "text/plain": [
              "(0, 3)"
            ]
          },
          "metadata": {
            "tags": []
          },
          "execution_count": 84
        }
      ]
    },
    {
      "cell_type": "code",
      "metadata": {
        "id": "A_bBtyfO6Z4E",
        "colab_type": "code",
        "outputId": "db146b87-d2c6-4e81-9f0c-b5939fdfb8f0",
        "colab": {
          "base_uri": "https://localhost:8080/",
          "height": 34
        }
      },
      "source": [
        "# dimensions after aggregation\n",
        "df_c.shape"
      ],
      "execution_count": 85,
      "outputs": [
        {
          "output_type": "execute_result",
          "data": {
            "text/plain": [
              "(103, 3)"
            ]
          },
          "metadata": {
            "tags": []
          },
          "execution_count": 85
        }
      ]
    },
    {
      "cell_type": "code",
      "metadata": {
        "id": "HWvwGNRkhMJ6",
        "colab_type": "code",
        "colab": {}
      },
      "source": [
        "postcode = \"Postcode\"\n",
        "borough = \"Borough\"\n",
        "neighbourhood = \"Neighbourhood\""
      ],
      "execution_count": 0,
      "outputs": []
    },
    {
      "cell_type": "code",
      "metadata": {
        "id": "KDsywcDtv_t4",
        "colab_type": "code",
        "colab": {}
      },
      "source": [
        "start_index = 0\n",
        "status_rate = 100\n",
        "write_data_rate = 1000\n",
        "attempts_to_geocode = 3\n",
        "wait_time = 3"
      ],
      "execution_count": 0,
      "outputs": []
    },
    {
      "cell_type": "code",
      "metadata": {
        "id": "wZ4SGI1-hDXS",
        "colab_type": "code",
        "colab": {}
      },
      "source": [
        "if neighbourhood not in df_c.columns:\n",
        "  raise ValueError(\"Can't find neighbourhood column in dataframe\")\n",
        "\n",
        "if borough not in df_c.columns:\n",
        "  raise ValueError(\"Can't find borough column in dataframe\") "
      ],
      "execution_count": 0,
      "outputs": []
    },
    {
      "cell_type": "code",
      "metadata": {
        "id": "UUK4zRSqiKIm",
        "colab_type": "code",
        "colab": {}
      },
      "source": [
        "if(postcode):\n",
        "  if postcode not in df_c.columns:\n",
        "    raise ValueError(\"Can't find postcode column in dataframe\")    \n",
        "  addresses = (df_c[neighbourhood].astype(str) + \", \" + df_c[borough].astype(str) + \", \" + df_c[postcode].astype(str)).tolist()\n",
        "else:\n",
        "  addresses = (df_c[neighbourhood].astype(str) + \", \" + df_c[borough].astype(str)).tolist()"
      ],
      "execution_count": 0,
      "outputs": []
    },
    {
      "cell_type": "code",
      "metadata": {
        "id": "BumWENO0mMLb",
        "colab_type": "code",
        "colab": {
          "base_uri": "https://localhost:8080/",
          "height": 1822
        },
        "outputId": "17ecfac9-204a-4143-c2e6-5932d803fc88"
      },
      "source": [
        "addresses"
      ],
      "execution_count": 99,
      "outputs": [
        {
          "output_type": "execute_result",
          "data": {
            "text/plain": [
              "[\"['Rouge', 'Malvern'], Scarborough, M1B\",\n",
              " \"['Highland Creek', 'Rouge Hill', 'Port Union'], Scarborough, M1C\",\n",
              " \"['Guildwood', 'Morningside', 'West Hill'], Scarborough, M1E\",\n",
              " \"['Woburn'], Scarborough, M1G\",\n",
              " \"['Cedarbrae'], Scarborough, M1H\",\n",
              " \"['Scarborough Village'], Scarborough, M1J\",\n",
              " \"['East Birchmount Park', 'Ionview', 'Kennedy Park'], Scarborough, M1K\",\n",
              " \"['Clairlea', 'Golden Mile', 'Oakridge'], Scarborough, M1L\",\n",
              " \"['Cliffcrest', 'Cliffside', 'Scarborough Village West'], Scarborough, M1M\",\n",
              " \"['Birch Cliff', 'Cliffside West'], Scarborough, M1N\",\n",
              " \"['Dorset Park', 'Scarborough Town Centre', 'Wexford Heights'], Scarborough, M1P\",\n",
              " \"['Maryvale', 'Wexford'], Scarborough, M1R\",\n",
              " \"['Agincourt'], Scarborough, M1S\",\n",
              " '[\\'Clarks Corners\\', \\'Sullivan\\', \"Tam O\\'Shanter\"], Scarborough, M1T',\n",
              " '[\\'Agincourt North\\', \"L\\'Amoreaux East\", \\'Milliken\\', \\'Steeles East\\'], Scarborough, M1V',\n",
              " '[\"L\\'Amoreaux West\"], Scarborough, M1W',\n",
              " \"['Upper Rouge'], Scarborough, M1X\",\n",
              " \"['Hillcrest Village'], North York, M2H\",\n",
              " \"['Fairview', 'Henry Farm', 'Oriole'], North York, M2J\",\n",
              " \"['Bayview Village'], North York, M2K\",\n",
              " \"['Silver Hills', 'York Mills'], North York, M2L\",\n",
              " \"['Newtonbrook', 'Willowdale'], North York, M2M\",\n",
              " \"['Willowdale South'], North York, M2N\",\n",
              " \"['York Mills West'], North York, M2P\",\n",
              " \"['Willowdale West'], North York, M2R\",\n",
              " \"['Parkwoods'], North York, M3A\",\n",
              " \"['Don Mills North'], North York, M3B\",\n",
              " \"['Flemingdon Park', 'Don Mills South'], North York, M3C\",\n",
              " \"['Bathurst Manor', 'Downsview North', 'Wilson Heights'], North York, M3H\",\n",
              " \"['Northwood Park', 'York University'], North York, M3J\",\n",
              " \"['CFB Toronto', 'Downsview East'], North York, M3K\",\n",
              " \"['Downsview West'], North York, M3L\",\n",
              " \"['Downsview Central'], North York, M3M\",\n",
              " \"['Downsview Northwest'], North York, M3N\",\n",
              " \"['Victoria Village'], North York, M4A\",\n",
              " \"['Woodbine Gardens', 'Parkview Hill'], East York, M4B\",\n",
              " \"['Woodbine Heights'], East York, M4C\",\n",
              " \"['The Beaches'], East Toronto, M4E\",\n",
              " \"['Leaside'], East York, M4G\",\n",
              " \"['Thorncliffe Park'], East York, M4H\",\n",
              " \"['East Toronto'], East York, M4J\",\n",
              " \"['The Danforth West', 'Riverdale'], East Toronto, M4K\",\n",
              " \"['The Beaches West', 'India Bazaar'], East Toronto, M4L\",\n",
              " \"['Studio District'], East Toronto, M4M\",\n",
              " \"['Lawrence Park'], Central Toronto, M4N\",\n",
              " \"['Davisville North'], Central Toronto, M4P\",\n",
              " \"['North Toronto West'], Central Toronto, M4R\",\n",
              " \"['Davisville'], Central Toronto, M4S\",\n",
              " \"['Moore Park', 'Summerhill East'], Central Toronto, M4T\",\n",
              " \"['Deer Park', 'Forest Hill SE', 'Rathnelly', 'South Hill', 'Summerhill West'], Central Toronto, M4V\",\n",
              " \"['Rosedale'], Downtown Toronto, M4W\",\n",
              " \"['Cabbagetown', 'St. James Town'], Downtown Toronto, M4X\",\n",
              " \"['Church and Wellesley'], Downtown Toronto, M4Y\",\n",
              " \"['Harbourfront', 'Regent Park'], Downtown Toronto, M5A\",\n",
              " \"['Ryerson', 'Garden District'], Downtown Toronto, M5B\",\n",
              " \"['St. James Town'], Downtown Toronto, M5C\",\n",
              " \"['Berczy Park'], Downtown Toronto, M5E\",\n",
              " \"['Central Bay Street'], Downtown Toronto, M5G\",\n",
              " \"['Adelaide', 'King', 'Richmond'], Downtown Toronto, M5H\",\n",
              " \"['Harbourfront East', 'Toronto Islands', 'Union Station'], Downtown Toronto, M5J\",\n",
              " \"['Design Exchange', 'Toronto Dominion Centre'], Downtown Toronto, M5K\",\n",
              " \"['Commerce Court', 'Victoria Hotel'], Downtown Toronto, M5L\",\n",
              " \"['Bedford Park', 'Lawrence Manor East'], North York, M5M\",\n",
              " \"['Roselawn'], Central Toronto, M5N\",\n",
              " \"['Forest Hill North', 'Forest Hill West'], Central Toronto, M5P\",\n",
              " \"['The Annex', 'North Midtown', 'Yorkville'], Central Toronto, M5R\",\n",
              " \"['Harbord', 'University of Toronto'], Downtown Toronto, M5S\",\n",
              " \"['Chinatown', 'Grange Park', 'Kensington Market'], Downtown Toronto, M5T\",\n",
              " \"['CN Tower', 'Bathurst Quay', 'Island airport', 'Harbourfront West', 'King and Spadina', 'Railway Lands', 'South Niagara'], Downtown Toronto, M5V\",\n",
              " \"['Stn A PO Boxes 25 The Esplanade'], Downtown Toronto, M5W\",\n",
              " \"['First Canadian Place', 'Underground city'], Downtown Toronto, M5X\",\n",
              " \"['Lawrence Heights', 'Lawrence Manor'], North York, M6A\",\n",
              " \"['Glencairn'], North York, M6B\",\n",
              " \"['Humewood-Cedarvale'], York, M6C\",\n",
              " \"['Caledonia-Fairbanks'], York, M6E\",\n",
              " \"['Christie'], Downtown Toronto, M6G\",\n",
              " \"['Dovercourt Village', 'Dufferin'], West Toronto, M6H\",\n",
              " \"['Little Portugal', 'Trinity'], West Toronto, M6J\",\n",
              " \"['Brockton', 'Exhibition Place', 'Parkdale Village'], West Toronto, M6K\",\n",
              " \"['Downsview', 'North Park', 'Upwood Park'], North York, M6L\",\n",
              " \"['Del Ray', 'Keelesdale', 'Mount Dennis', 'Silverthorn'], York, M6M\",\n",
              " \"['The Junction North', 'Runnymede'], York, M6N\",\n",
              " \"['High Park', 'The Junction South'], West Toronto, M6P\",\n",
              " \"['Parkdale', 'Roncesvalles'], West Toronto, M6R\",\n",
              " \"['Runnymede', 'Swansea'], West Toronto, M6S\",\n",
              " \"['Not assigned'], Queen's Park, M7A\",\n",
              " \"['Canada Post Gateway Processing Centre'], Mississauga, M7R\",\n",
              " \"['Business Reply Mail Processing Centre 969 Eastern'], East Toronto, M7Y\",\n",
              " \"['Humber Bay Shores', 'Mimico South', 'New Toronto'], Etobicoke, M8V\",\n",
              " \"['Alderwood', 'Long Branch'], Etobicoke, M8W\",\n",
              " \"['The Kingsway', 'Montgomery Road', 'Old Mill North'], Etobicoke, M8X\",\n",
              " '[\\'Humber Bay\\', \"King\\'s Mill Park\", \\'Kingsway Park South East\\', \\'Mimico NE\\', \\'Old Mill South\\', \\'The Queensway East\\', \\'Royal York South East\\', \\'Sunnylea\\'], Etobicoke, M8Y',\n",
              " \"['Kingsway Park South West', 'Mimico NW', 'The Queensway West', 'Royal York South West', 'South of Bloor'], Etobicoke, M8Z\",\n",
              " \"['Islington Avenue'], Etobicoke, M9A\",\n",
              " \"['Cloverdale', 'Islington', 'Martin Grove', 'Princess Gardens', 'West Deane Park'], Etobicoke, M9B\",\n",
              " \"['Bloordale Gardens', 'Eringate', 'Markland Wood', 'Old Burnhamthorpe'], Etobicoke, M9C\",\n",
              " \"['Humber Summit'], North York, M9L\",\n",
              " \"['Emery', 'Humberlea'], North York, M9M\",\n",
              " \"['Weston'], York, M9N\",\n",
              " \"['Westmount'], Etobicoke, M9P\",\n",
              " \"['Kingsview Village', 'Martin Grove Gardens', 'Richview Gardens', 'St. Phillips'], Etobicoke, M9R\",\n",
              " \"['Albion Gardens', 'Beaumond Heights', 'Humbergate', 'Jamestown', 'Mount Olive', 'Silverstone', 'South Steeles', 'Thistletown'], Etobicoke, M9V\",\n",
              " \"['Northwest'], Etobicoke, M9W\"]"
            ]
          },
          "metadata": {
            "tags": []
          },
          "execution_count": 99
        }
      ]
    }
  ]
}