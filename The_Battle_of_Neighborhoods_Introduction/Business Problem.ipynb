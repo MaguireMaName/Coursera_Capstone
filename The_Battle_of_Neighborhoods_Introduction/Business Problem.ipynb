{
  "nbformat": 4,
  "nbformat_minor": 0,
  "metadata": {
    "colab": {
      "name": "The Battle of Neighborhoods.ipynb",
      "version": "0.3.2",
      "provenance": [],
      "toc_visible": true,
      "include_colab_link": true
    },
    "kernelspec": {
      "name": "python2",
      "display_name": "Python 2"
    }
  },
  "cells": [
    {
      "cell_type": "markdown",
      "metadata": {
        "id": "view-in-github",
        "colab_type": "text"
      },
      "source": [
        "<a href=\"https://colab.research.google.com/github/MaguireMaName/Coursera_Capstone/blob/master/The_Battle_of_Neighborhoods_Introduction/Business%20Problem.ipynb\" target=\"_parent\"><img src=\"https://colab.research.google.com/assets/colab-badge.svg\" alt=\"Open In Colab\"/></a>"
      ]
    },
    {
      "cell_type": "markdown",
      "metadata": {
        "id": "-tHI-cacXpTO",
        "colab_type": "text"
      },
      "source": [
        "# Capstone: Battle of the Neighbourhoods"
      ]
    },
    {
      "cell_type": "markdown",
      "metadata": {
        "id": "gEMkLqYVXdqx",
        "colab_type": "text"
      },
      "source": [
        "##Introduction/Business Problem\n",
        "\n",
        "This project will bring together neighboured information by type of venues (from Foursquare) and neighbourhood crime statistics to find complementary neighbourhoods not only by the frequency of venue by type, but to compare and contrast these neighbourhoods alongside crime statistics.\n",
        "\n",
        "The target audience for this information will be businesses who wish to compare and contrract neighbourhoods ands set up shop in a reasonably safe neighbourhood that is reasonably free of competition (i.e., by the frequency of venues by type) or individuals who wish to identify neighbourhoods with their venues of interest, and where the neighbourhood is also reasonably safe is visit."
      ]
    }
  ]
}