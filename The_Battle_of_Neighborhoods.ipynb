{
  "nbformat": 4,
  "nbformat_minor": 0,
  "metadata": {
    "colab": {
      "name": "The Battle of Neighborhoods.ipynb",
      "version": "0.3.2",
      "provenance": [],
      "toc_visible": true,
      "include_colab_link": true
    },
    "kernelspec": {
      "name": "python2",
      "display_name": "Python 2"
    }
  },
  "cells": [
    {
      "cell_type": "markdown",
      "metadata": {
        "id": "view-in-github",
        "colab_type": "text"
      },
      "source": [
        "<a href=\"https://colab.research.google.com/github/MaguireMaName/Coursera_Capstone/blob/master/The_Battle_of_Neighborhoods.ipynb\" target=\"_parent\"><img src=\"https://colab.research.google.com/assets/colab-badge.svg\" alt=\"Open In Colab\"/></a>"
      ]
    },
    {
      "cell_type": "markdown",
      "metadata": {
        "id": "-tHI-cacXpTO",
        "colab_type": "text"
      },
      "source": [
        "# Capstone: Battle of the Neighbourhoods"
      ]
    },
    {
      "cell_type": "markdown",
      "metadata": {
        "id": "gEMkLqYVXdqx",
        "colab_type": "text"
      },
      "source": [
        "##Introduction/Business Problem"
      ]
    },
    {
      "cell_type": "markdown",
      "metadata": {
        "id": "y0IJ7jpVXSTJ",
        "colab_type": "text"
      },
      "source": [
        "## Data description"
      ]
    },
    {
      "cell_type": "code",
      "metadata": {
        "id": "8OOh6oH22Liy",
        "colab_type": "code",
        "colab": {}
      },
      "source": [
        "# !pip install geocoder"
      ],
      "execution_count": 0,
      "outputs": []
    },
    {
      "cell_type": "code",
      "metadata": {
        "id": "Nfvpohu6XwLX",
        "colab_type": "code",
        "colab": {}
      },
      "source": [
        "# load dependancies\n",
        "\n",
        "import pandas as pd\n",
        "import numpy as np\n",
        "import geocoder"
      ],
      "execution_count": 0,
      "outputs": []
    },
    {
      "cell_type": "code",
      "metadata": {
        "id": "3wj3mTt2XXXo",
        "colab_type": "code",
        "colab": {
          "base_uri": "https://localhost:8080/",
          "height": 223
        },
        "outputId": "bf93d27d-5fd1-433c-d01b-2f494a3eb446"
      },
      "source": [
        "nghbrhd_data = pd.read_csv('Canberra suburbs.csv')\n",
        "print(nghbrhd_data.shape)\n",
        "nghbrhd_data.head()"
      ],
      "execution_count": 6,
      "outputs": [
        {
          "output_type": "stream",
          "text": [
            "(154, 4)\n"
          ],
          "name": "stdout"
        },
        {
          "output_type": "execute_result",
          "data": {
            "text/html": [
              "<div>\n",
              "<style scoped>\n",
              "    .dataframe tbody tr th:only-of-type {\n",
              "        vertical-align: middle;\n",
              "    }\n",
              "\n",
              "    .dataframe tbody tr th {\n",
              "        vertical-align: top;\n",
              "    }\n",
              "\n",
              "    .dataframe thead th {\n",
              "        text-align: right;\n",
              "    }\n",
              "</style>\n",
              "<table border=\"1\" class=\"dataframe\">\n",
              "  <thead>\n",
              "    <tr style=\"text-align: right;\">\n",
              "      <th></th>\n",
              "      <th>Suburb</th>\n",
              "      <th>Postcode</th>\n",
              "      <th>Country</th>\n",
              "      <th>Region</th>\n",
              "    </tr>\n",
              "  </thead>\n",
              "  <tbody>\n",
              "    <tr>\n",
              "      <th>0</th>\n",
              "      <td>Barton</td>\n",
              "      <td>2600</td>\n",
              "      <td>Australia</td>\n",
              "      <td>Australian Capital Territory</td>\n",
              "    </tr>\n",
              "    <tr>\n",
              "      <th>1</th>\n",
              "      <td>Canberra</td>\n",
              "      <td>2600</td>\n",
              "      <td>Australia</td>\n",
              "      <td>Australian Capital Territory</td>\n",
              "    </tr>\n",
              "    <tr>\n",
              "      <th>2</th>\n",
              "      <td>Page</td>\n",
              "      <td>2614</td>\n",
              "      <td>Australia</td>\n",
              "      <td>Australian Capital Territory</td>\n",
              "    </tr>\n",
              "    <tr>\n",
              "      <th>3</th>\n",
              "      <td>City</td>\n",
              "      <td>2601</td>\n",
              "      <td>Australia</td>\n",
              "      <td>Australian Capital Territory</td>\n",
              "    </tr>\n",
              "    <tr>\n",
              "      <th>4</th>\n",
              "      <td>Canberra</td>\n",
              "      <td>2601</td>\n",
              "      <td>Australia</td>\n",
              "      <td>Australian Capital Territory</td>\n",
              "    </tr>\n",
              "  </tbody>\n",
              "</table>\n",
              "</div>"
            ],
            "text/plain": [
              "     Suburb  Postcode    Country                        Region\n",
              "0    Barton      2600  Australia  Australian Capital Territory\n",
              "1  Canberra      2600  Australia  Australian Capital Territory\n",
              "2      Page      2614  Australia  Australian Capital Territory\n",
              "3      City      2601  Australia  Australian Capital Territory\n",
              "4  Canberra      2601  Australia  Australian Capital Territory"
            ]
          },
          "metadata": {
            "tags": []
          },
          "execution_count": 6
        }
      ]
    },
    {
      "cell_type": "code",
      "metadata": {
        "id": "JATv1pPD6Ss5",
        "colab_type": "code",
        "colab": {}
      },
      "source": [
        "Lat_list=[]\n",
        "Lng_list=[]\n",
        "\n",
        "for i in range(nghbrhd_data.shape[0]):\n",
        "    address='{}, Canberra, Australia'.format(nghbrhd_data.at[i,'Postcode'])\n",
        "    g = geocoder.arcgis(address)\n",
        "    Lat_list.append(g.latlng[0])\n",
        "    Lat_list.append(g.latlng[1])\n"
      ],
      "execution_count": 0,
      "outputs": []
    },
    {
      "cell_type": "code",
      "metadata": {
        "id": "XheYliyhDACo",
        "colab_type": "code",
        "colab": {}
      },
      "source": [
        "test = pd.DataFrame({'Latitude': Lng_list,\n",
        "                     'Longitude': Lat_list})"
      ],
      "execution_count": 0,
      "outputs": []
    }
  ]
}