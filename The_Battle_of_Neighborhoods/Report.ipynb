{
  "nbformat": 4,
  "nbformat_minor": 0,
  "metadata": {
    "colab": {
      "name": "The Battle of Neighborhoods.ipynb",
      "version": "0.3.2",
      "provenance": [],
      "toc_visible": true,
      "include_colab_link": true
    },
    "kernelspec": {
      "name": "python2",
      "display_name": "Python 2"
    }
  },
  "cells": [
    {
      "cell_type": "markdown",
      "metadata": {
        "id": "view-in-github",
        "colab_type": "text"
      },
      "source": [
        "<a href=\"https://colab.research.google.com/github/MaguireMaName/Coursera_Capstone/blob/master/The_Battle_of_Neighborhoods/Report.ipynb\" target=\"_parent\"><img src=\"https://colab.research.google.com/assets/colab-badge.svg\" alt=\"Open In Colab\"/></a>"
      ]
    },
    {
      "cell_type": "markdown",
      "metadata": {
        "id": "gEMkLqYVXdqx",
        "colab_type": "text"
      },
      "source": [
        "##Coursera Capstone: IBM Professional Certification\n",
        "###Battle of the neighborhoods\n",
        "\n",
        "###Introduction/Business Problem\n",
        "\n",
        "This project will bring together neighborhood information by type of venues (from Foursquare) and neighborhood crime statistics to find complementary neighborhoods not only by the frequency of venue by category, but to also contrast these neighborhoods alongside crime statistics.\n",
        "\n",
        "The target audience for this information will be businesses who wish to compare and contrast neighborhoods and set up shop in areas that are both reasonably safe and free of competition (i.e., by the frequency of alike venues) or for individuals who wish to identify neighborhoods with their venues of interest, and where the neighborhood is also reasonably safe is visit.\n",
        "\n",
        "###Data description\n",
        "The Foursquare data will be used to identify similar neighborhoods by the frequency of venues by type. This alikeness will allow businesses to identify those neighborhoods with relatively high levels of competition. For example, if I wanted to set up a coffee shop, I might want to avoid a neighborhood saturated with coffee shops!\n",
        "\n",
        "The Foursquare dataset is value-added by the inclusion of neighborhood crime dataset (source) from alongside estimated resident population (source) information. The integration of these datasets will enable business or individuals to identify neighborhoods that intersect with unreasonably high incidences of crime on a per capita basis.\n",
        "\n",
        "This information will enable businesses to target and assess the potential location of their operations by frequency of venues (i.e., competition) and low crime per capita. Similarly, individuals can use the information to assess what venues to visit in what neighborhood by type of venue and by the incidence of crime in that neighborhood.\n",
        "\n",
        "###Methodology\n",
        "*Note: numbers in [ ] steps reference Notebook code*\n",
        "\n",
        "**[01-03]** Import the neighborhood dataset and geocode. There are 124 neighborhoods in the dataset, and we were able to geocode them all!\n",
        "\n",
        "**[04]** Visualise the point data of neighborhoods. Used folium package to visualise the neighborhood markers.  \n",
        "\n",
        "**[05]** Lookup venues using Foursquare API call. Create function to call Foursquare API and search neighborhoods for surrounding venues.\n",
        "\n",
        "**[06]** Use one hot encoding to perform a “binarization” of the venue categories (Top 5) and aggregate data over geography: neighborhood.\n",
        "\n",
        "**[07-08]** There are 5 distinct clusters.\n",
        "**[09]** Import neighborhood crime & population dataset. We chose the four types of crime relevant to the business problem: homicide, assault, robbery, and burglary.\n",
        "\n",
        "**[10-11]** Calculate measures and merge datasets. We merge with neighborhoods dataset for cluster labels latitude, and longitude.  We only process those neighborhoods that have both non-zero population and total crime.  We also want to calculate total crime per capita, and rank order neighborhoods on this result.\n"
      ]
    }
  ]
}