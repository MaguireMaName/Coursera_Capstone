{
  "nbformat": 4,
  "nbformat_minor": 0,
  "metadata": {
    "colab": {
      "name": "Machine Learning w/ Python: Applied Data Science Capstone.ipynb",
      "version": "0.3.2",
      "provenance": [],
      "collapsed_sections": [],
      "toc_visible": true,
      "include_colab_link": true
    },
    "kernelspec": {
      "name": "python3",
      "display_name": "Python 3"
    }
  },
  "cells": [
    {
      "cell_type": "markdown",
      "metadata": {
        "id": "view-in-github",
        "colab_type": "text"
      },
      "source": [
        "<a href=\"https://colab.research.google.com/github/MaguireMaName/Coursera_Capstone/blob/master/Machine_Learning_w_Python_Segment_%26_Clustering.ipynb\" target=\"_parent\"><img src=\"https://colab.research.google.com/assets/colab-badge.svg\" alt=\"Open In Colab\"/></a>"
      ]
    },
    {
      "cell_type": "code",
      "metadata": {
        "id": "qw76k46tB9Cs",
        "colab_type": "code",
        "colab": {}
      },
      "source": [
        "#!pip install geocoder\n",
        "#!pip install requests"
      ],
      "execution_count": 0,
      "outputs": []
    },
    {
      "cell_type": "code",
      "metadata": {
        "id": "UgI25mW9kxSp",
        "colab_type": "code",
        "colab": {}
      },
      "source": [
        "# bring in dependencies \n",
        "import geocoder\n",
        "import pandas as pd\n",
        "import numpy as np\n",
        "from bs4 import BeautifulSoup\n",
        "import requests as rq\n",
        "import requests"
      ],
      "execution_count": 0,
      "outputs": []
    },
    {
      "cell_type": "markdown",
      "metadata": {
        "id": "Tq-BkN7jkySM",
        "colab_type": "text"
      },
      "source": [
        "## Machine Learning with Python: Dataframe of postal code, neighborhood, & borough\n",
        "*For the Applied Data Science Capstone Project*"
      ]
    },
    {
      "cell_type": "code",
      "metadata": {
        "id": "a4iV8Wqpllo3",
        "colab_type": "code",
        "colab": {
          "base_uri": "https://localhost:8080/",
          "height": 34
        },
        "outputId": "463408d4-8a7e-45da-e18d-31952c8a337a"
      },
      "source": [
        "# define url for scraping and print\n",
        "\n",
        "url = \"https://en.wikipedia.org/wiki/List_of_postal_codes_of_Canada:_M\"\n",
        "print(url)"
      ],
      "execution_count": 6,
      "outputs": [
        {
          "output_type": "stream",
          "text": [
            "https://en.wikipedia.org/wiki/List_of_postal_codes_of_Canada:_M\n"
          ],
          "name": "stdout"
        }
      ]
    },
    {
      "cell_type": "code",
      "metadata": {
        "id": "y9ORQmMa6I4x",
        "colab_type": "code",
        "colab": {}
      },
      "source": [
        "response = rq.get(url)\n",
        "soup = BeautifulSoup(response.text, 'html.parser')\n",
        "\n",
        "#print(soup)"
      ],
      "execution_count": 0,
      "outputs": []
    },
    {
      "cell_type": "code",
      "metadata": {
        "id": "Eq-g64cO7EIJ",
        "colab_type": "code",
        "colab": {}
      },
      "source": [
        "table = soup.find('table', {'class':'wikitable sortable'}).tbody\n",
        "#print(table)\n",
        "\n",
        "rows = table.find_all('tr')\n",
        "\n",
        "columns = [v.text.replace('\\n','') for v in rows[0].find_all('th')]\n",
        "\n",
        "df_a = pd.DataFrame(columns=columns)\n",
        "\n",
        "for i in range(1, len(rows)):\n",
        "    tds = rows[i].find_all('td')\n",
        "    \n",
        "    if len(tds) ==4:\n",
        "      values = [tds[0].text, tds[1].text,'', tds[2].text, tds[3].text.replace('\\n','').replace('\\xa0','')]\n",
        "    else:\n",
        "      values = [td.text.replace('\\n','').replace('\\xa0','') for td in tds]\n",
        "    \n",
        "    df_a = df_a.append(pd.Series(values, index=columns), ignore_index=True)\n"
      ],
      "execution_count": 0,
      "outputs": []
    },
    {
      "cell_type": "code",
      "metadata": {
        "id": "XHM0kmfR0_yv",
        "colab_type": "code",
        "outputId": "34bc6d3c-417b-457d-e1a5-c0efb6f8035e",
        "colab": {
          "base_uri": "https://localhost:8080/",
          "height": 34
        }
      },
      "source": [
        "# dimensions before aggregation\n",
        "\n",
        "df_a.shape"
      ],
      "execution_count": 9,
      "outputs": [
        {
          "output_type": "execute_result",
          "data": {
            "text/plain": [
              "(288, 3)"
            ]
          },
          "metadata": {
            "tags": []
          },
          "execution_count": 9
        }
      ]
    },
    {
      "cell_type": "code",
      "metadata": {
        "id": "ruvLHljC5jdM",
        "colab_type": "code",
        "colab": {}
      },
      "source": [
        "# aggregate data\n",
        "\n",
        "df_b = df_a.groupby(['Postcode','Borough']).agg(lambda x: x.tolist()).reset_index()"
      ],
      "execution_count": 0,
      "outputs": []
    },
    {
      "cell_type": "code",
      "metadata": {
        "id": "wtMA6pAN5PyT",
        "colab_type": "code",
        "outputId": "5dbd419a-a273-442b-fa1e-4cdddadebebe",
        "colab": {
          "base_uri": "https://localhost:8080/",
          "height": 34
        }
      },
      "source": [
        "df_b.shape"
      ],
      "execution_count": 12,
      "outputs": [
        {
          "output_type": "execute_result",
          "data": {
            "text/plain": [
              "(180, 3)"
            ]
          },
          "metadata": {
            "tags": []
          },
          "execution_count": 12
        }
      ]
    },
    {
      "cell_type": "code",
      "metadata": {
        "id": "HWX06ryAGcQq",
        "colab_type": "code",
        "outputId": "802211da-fdcd-4fa9-df7f-685aceb33e99",
        "colab": {
          "base_uri": "https://localhost:8080/",
          "height": 206
        }
      },
      "source": [
        "# check results\n",
        "\n",
        "df_b.head()"
      ],
      "execution_count": 13,
      "outputs": [
        {
          "output_type": "execute_result",
          "data": {
            "text/html": [
              "<div>\n",
              "<style scoped>\n",
              "    .dataframe tbody tr th:only-of-type {\n",
              "        vertical-align: middle;\n",
              "    }\n",
              "\n",
              "    .dataframe tbody tr th {\n",
              "        vertical-align: top;\n",
              "    }\n",
              "\n",
              "    .dataframe thead th {\n",
              "        text-align: right;\n",
              "    }\n",
              "</style>\n",
              "<table border=\"1\" class=\"dataframe\">\n",
              "  <thead>\n",
              "    <tr style=\"text-align: right;\">\n",
              "      <th></th>\n",
              "      <th>Postcode</th>\n",
              "      <th>Borough</th>\n",
              "      <th>Neighbourhood</th>\n",
              "    </tr>\n",
              "  </thead>\n",
              "  <tbody>\n",
              "    <tr>\n",
              "      <th>0</th>\n",
              "      <td>M1A</td>\n",
              "      <td>Not assigned</td>\n",
              "      <td>[Not assigned]</td>\n",
              "    </tr>\n",
              "    <tr>\n",
              "      <th>1</th>\n",
              "      <td>M1B</td>\n",
              "      <td>Scarborough</td>\n",
              "      <td>[Rouge, Malvern]</td>\n",
              "    </tr>\n",
              "    <tr>\n",
              "      <th>2</th>\n",
              "      <td>M1C</td>\n",
              "      <td>Scarborough</td>\n",
              "      <td>[Highland Creek, Rouge Hill, Port Union]</td>\n",
              "    </tr>\n",
              "    <tr>\n",
              "      <th>3</th>\n",
              "      <td>M1E</td>\n",
              "      <td>Scarborough</td>\n",
              "      <td>[Guildwood, Morningside, West Hill]</td>\n",
              "    </tr>\n",
              "    <tr>\n",
              "      <th>4</th>\n",
              "      <td>M1G</td>\n",
              "      <td>Scarborough</td>\n",
              "      <td>[Woburn]</td>\n",
              "    </tr>\n",
              "  </tbody>\n",
              "</table>\n",
              "</div>"
            ],
            "text/plain": [
              "  Postcode       Borough                             Neighbourhood\n",
              "0      M1A  Not assigned                            [Not assigned]\n",
              "1      M1B   Scarborough                          [Rouge, Malvern]\n",
              "2      M1C   Scarborough  [Highland Creek, Rouge Hill, Port Union]\n",
              "3      M1E   Scarborough       [Guildwood, Morningside, West Hill]\n",
              "4      M1G   Scarborough                                  [Woburn]"
            ]
          },
          "metadata": {
            "tags": []
          },
          "execution_count": 13
        }
      ]
    },
    {
      "cell_type": "code",
      "metadata": {
        "id": "rnWZRZHCNBDY",
        "colab_type": "code",
        "colab": {}
      },
      "source": [
        "# where neighbourhood is not assigned, replace it with borough\n",
        "\n",
        "df_b['Neighbourhood'] = np.where(df_b['Neighbourhood'] == \"Not assigned\", df_b['Borough'], df_b['Neighbourhood'])\n"
      ],
      "execution_count": 0,
      "outputs": []
    },
    {
      "cell_type": "code",
      "metadata": {
        "id": "eENlKVmH4MUS",
        "colab_type": "code",
        "outputId": "28e3032d-6adf-48f7-c54f-00c92c0877a8",
        "colab": {
          "base_uri": "https://localhost:8080/",
          "height": 34
        }
      },
      "source": [
        "# exception table\n",
        "\n",
        "x_neighbourhood = df_b.loc[(df_b['Neighbourhood'] == \"Not assigned\")]\n",
        "x_neighbourhood.shape"
      ],
      "execution_count": 15,
      "outputs": [
        {
          "output_type": "execute_result",
          "data": {
            "text/plain": [
              "(0, 3)"
            ]
          },
          "metadata": {
            "tags": []
          },
          "execution_count": 15
        }
      ]
    },
    {
      "cell_type": "code",
      "metadata": {
        "id": "qTv0cMFP4T7x",
        "colab_type": "code",
        "outputId": "9747d062-7a0a-4a2e-afb2-ecbf43997f67",
        "colab": {
          "base_uri": "https://localhost:8080/",
          "height": 34
        }
      },
      "source": [
        "# exception table\n",
        "\n",
        "x_borough = df_b.loc[(df_b['Borough'] == \"Not assigned\")]\n",
        "x_borough.shape"
      ],
      "execution_count": 16,
      "outputs": [
        {
          "output_type": "execute_result",
          "data": {
            "text/plain": [
              "(77, 3)"
            ]
          },
          "metadata": {
            "tags": []
          },
          "execution_count": 16
        }
      ]
    },
    {
      "cell_type": "code",
      "metadata": {
        "id": "fjrmiLz94qqN",
        "colab_type": "code",
        "colab": {}
      },
      "source": [
        "# 77 boroughs not assigned. Don't process obs. where borough = 'Not assigned'\n",
        "\n",
        "df_c = df_b.drop(df_b[df_b.Borough == \"Not assigned\"].index)\n"
      ],
      "execution_count": 0,
      "outputs": []
    },
    {
      "cell_type": "code",
      "metadata": {
        "id": "QpRhNFiC5-EB",
        "colab_type": "code",
        "outputId": "0d1b8b44-d230-4bea-ff6a-e109defdae39",
        "colab": {
          "base_uri": "https://localhost:8080/",
          "height": 34
        }
      },
      "source": [
        "# exception table\n",
        "\n",
        "x_borough = df_c.loc[(df_b['Borough'] == \"Not assigned\")]\n",
        "x_borough.shape"
      ],
      "execution_count": 19,
      "outputs": [
        {
          "output_type": "execute_result",
          "data": {
            "text/plain": [
              "(0, 3)"
            ]
          },
          "metadata": {
            "tags": []
          },
          "execution_count": 19
        }
      ]
    },
    {
      "cell_type": "code",
      "metadata": {
        "id": "A_bBtyfO6Z4E",
        "colab_type": "code",
        "outputId": "fc0960d6-6637-4062-e334-35f23a90a963",
        "colab": {
          "base_uri": "https://localhost:8080/",
          "height": 34
        }
      },
      "source": [
        "# dimensions after aggregation\n",
        "\n",
        "df_c.shape"
      ],
      "execution_count": 20,
      "outputs": [
        {
          "output_type": "execute_result",
          "data": {
            "text/plain": [
              "(103, 3)"
            ]
          },
          "metadata": {
            "tags": []
          },
          "execution_count": 20
        }
      ]
    },
    {
      "cell_type": "code",
      "metadata": {
        "id": "YXQF8_jcnAp9",
        "colab_type": "code",
        "colab": {}
      },
      "source": [
        "# load in lat and lon info\n",
        "\n",
        "df_geo = pd.read_csv('Geospatial_Coordinates.csv')"
      ],
      "execution_count": 0,
      "outputs": []
    },
    {
      "cell_type": "code",
      "metadata": {
        "id": "TiBmJuWZQ6jX",
        "colab_type": "code",
        "outputId": "0f8ba3c8-2a7a-41d3-b49e-45763f3f7b26",
        "colab": {
          "base_uri": "https://localhost:8080/",
          "height": 206
        }
      },
      "source": [
        "# check geo load\n",
        "\n",
        "df_geo.head()"
      ],
      "execution_count": 23,
      "outputs": [
        {
          "output_type": "execute_result",
          "data": {
            "text/html": [
              "<div>\n",
              "<style scoped>\n",
              "    .dataframe tbody tr th:only-of-type {\n",
              "        vertical-align: middle;\n",
              "    }\n",
              "\n",
              "    .dataframe tbody tr th {\n",
              "        vertical-align: top;\n",
              "    }\n",
              "\n",
              "    .dataframe thead th {\n",
              "        text-align: right;\n",
              "    }\n",
              "</style>\n",
              "<table border=\"1\" class=\"dataframe\">\n",
              "  <thead>\n",
              "    <tr style=\"text-align: right;\">\n",
              "      <th></th>\n",
              "      <th>Postal Code</th>\n",
              "      <th>Latitude</th>\n",
              "      <th>Longitude</th>\n",
              "    </tr>\n",
              "  </thead>\n",
              "  <tbody>\n",
              "    <tr>\n",
              "      <th>0</th>\n",
              "      <td>M1B</td>\n",
              "      <td>43.806686</td>\n",
              "      <td>-79.194353</td>\n",
              "    </tr>\n",
              "    <tr>\n",
              "      <th>1</th>\n",
              "      <td>M1C</td>\n",
              "      <td>43.784535</td>\n",
              "      <td>-79.160497</td>\n",
              "    </tr>\n",
              "    <tr>\n",
              "      <th>2</th>\n",
              "      <td>M1E</td>\n",
              "      <td>43.763573</td>\n",
              "      <td>-79.188711</td>\n",
              "    </tr>\n",
              "    <tr>\n",
              "      <th>3</th>\n",
              "      <td>M1G</td>\n",
              "      <td>43.770992</td>\n",
              "      <td>-79.216917</td>\n",
              "    </tr>\n",
              "    <tr>\n",
              "      <th>4</th>\n",
              "      <td>M1H</td>\n",
              "      <td>43.773136</td>\n",
              "      <td>-79.239476</td>\n",
              "    </tr>\n",
              "  </tbody>\n",
              "</table>\n",
              "</div>"
            ],
            "text/plain": [
              "  Postal Code   Latitude  Longitude\n",
              "0         M1B  43.806686 -79.194353\n",
              "1         M1C  43.784535 -79.160497\n",
              "2         M1E  43.763573 -79.188711\n",
              "3         M1G  43.770992 -79.216917\n",
              "4         M1H  43.773136 -79.239476"
            ]
          },
          "metadata": {
            "tags": []
          },
          "execution_count": 23
        }
      ]
    },
    {
      "cell_type": "code",
      "metadata": {
        "id": "DquRP3VERnh7",
        "colab_type": "code",
        "colab": {}
      },
      "source": [
        "df_geo.rename(columns = {\"Postal Code\": \"Postcode\"}, \n",
        "                                 inplace = True) "
      ],
      "execution_count": 0,
      "outputs": []
    },
    {
      "cell_type": "code",
      "metadata": {
        "id": "h0Hpc730REBF",
        "colab_type": "code",
        "colab": {}
      },
      "source": [
        "# join geo with neighbourhood data\n",
        "\n",
        "df_d = pd.merge(df_geo, df_c, on='Postcode')"
      ],
      "execution_count": 0,
      "outputs": []
    },
    {
      "cell_type": "code",
      "metadata": {
        "id": "UXfNneMKSLqh",
        "colab_type": "code",
        "outputId": "a8859942-9f7c-4bbc-bb33-29445c3273bf",
        "colab": {
          "base_uri": "https://localhost:8080/",
          "height": 34
        }
      },
      "source": [
        "# check dimensions\n",
        "\n",
        "df_d.shape"
      ],
      "execution_count": 26,
      "outputs": [
        {
          "output_type": "execute_result",
          "data": {
            "text/plain": [
              "(103, 5)"
            ]
          },
          "metadata": {
            "tags": []
          },
          "execution_count": 26
        }
      ]
    },
    {
      "cell_type": "code",
      "metadata": {
        "id": "zKQOQeWy3A09",
        "colab_type": "code",
        "outputId": "37fda2d7-9f02-4003-be65-7f5ac406fb0d",
        "colab": {
          "base_uri": "https://localhost:8080/",
          "height": 206
        }
      },
      "source": [
        "# check data\n",
        "\n",
        "df_d.head()"
      ],
      "execution_count": 34,
      "outputs": [
        {
          "output_type": "execute_result",
          "data": {
            "text/html": [
              "<div>\n",
              "<style scoped>\n",
              "    .dataframe tbody tr th:only-of-type {\n",
              "        vertical-align: middle;\n",
              "    }\n",
              "\n",
              "    .dataframe tbody tr th {\n",
              "        vertical-align: top;\n",
              "    }\n",
              "\n",
              "    .dataframe thead th {\n",
              "        text-align: right;\n",
              "    }\n",
              "</style>\n",
              "<table border=\"1\" class=\"dataframe\">\n",
              "  <thead>\n",
              "    <tr style=\"text-align: right;\">\n",
              "      <th></th>\n",
              "      <th>Postcode</th>\n",
              "      <th>Latitude</th>\n",
              "      <th>Longitude</th>\n",
              "      <th>Borough</th>\n",
              "      <th>Neighbourhood</th>\n",
              "    </tr>\n",
              "  </thead>\n",
              "  <tbody>\n",
              "    <tr>\n",
              "      <th>98</th>\n",
              "      <td>M9N</td>\n",
              "      <td>43.706876</td>\n",
              "      <td>-79.518188</td>\n",
              "      <td>York</td>\n",
              "      <td>[Weston]</td>\n",
              "    </tr>\n",
              "    <tr>\n",
              "      <th>99</th>\n",
              "      <td>M9P</td>\n",
              "      <td>43.696319</td>\n",
              "      <td>-79.532242</td>\n",
              "      <td>Etobicoke</td>\n",
              "      <td>[Westmount]</td>\n",
              "    </tr>\n",
              "    <tr>\n",
              "      <th>100</th>\n",
              "      <td>M9R</td>\n",
              "      <td>43.688905</td>\n",
              "      <td>-79.554724</td>\n",
              "      <td>Etobicoke</td>\n",
              "      <td>[Kingsview Village, Martin Grove Gardens, Rich...</td>\n",
              "    </tr>\n",
              "    <tr>\n",
              "      <th>101</th>\n",
              "      <td>M9V</td>\n",
              "      <td>43.739416</td>\n",
              "      <td>-79.588437</td>\n",
              "      <td>Etobicoke</td>\n",
              "      <td>[Albion Gardens, Beaumond Heights, Humbergate,...</td>\n",
              "    </tr>\n",
              "    <tr>\n",
              "      <th>102</th>\n",
              "      <td>M9W</td>\n",
              "      <td>43.706748</td>\n",
              "      <td>-79.594054</td>\n",
              "      <td>Etobicoke</td>\n",
              "      <td>[Northwest]</td>\n",
              "    </tr>\n",
              "  </tbody>\n",
              "</table>\n",
              "</div>"
            ],
            "text/plain": [
              "    Postcode  ...                                      Neighbourhood\n",
              "98       M9N  ...                                           [Weston]\n",
              "99       M9P  ...                                        [Westmount]\n",
              "100      M9R  ...  [Kingsview Village, Martin Grove Gardens, Rich...\n",
              "101      M9V  ...  [Albion Gardens, Beaumond Heights, Humbergate,...\n",
              "102      M9W  ...                                        [Northwest]\n",
              "\n",
              "[5 rows x 5 columns]"
            ]
          },
          "metadata": {
            "tags": []
          },
          "execution_count": 34
        }
      ]
    },
    {
      "cell_type": "code",
      "metadata": {
        "id": "eHqV8Oyi3Ek2",
        "colab_type": "code",
        "colab": {
          "base_uri": "https://localhost:8080/",
          "height": 69
        },
        "outputId": "23ac54f0-c676-4640-f44d-90e8379e111c"
      },
      "source": [
        "CLIENT_ID = 'KL5SVGOS40RKZBQK4G1VXYBKBICWCDQL2NMCASHFYER432SS'\n",
        "' # your Foursquare ID'\n",
        "CLIENT_SECRET = '1A5KPYJQIATH0SDZXPPZ5YK0SHLBYVEGPER5AAIIMDXLZ0AB' # your Foursquare Secret\n",
        "VERSION = '20180604'\n",
        "LIMIT = 30\n",
        "print('Your credentails:')\n",
        "print('CLIENT_ID: ' + CLIENT_ID)\n",
        "print('CLIENT_SECRET:' + CLIENT_SECRET)"
      ],
      "execution_count": 28,
      "outputs": [
        {
          "output_type": "stream",
          "text": [
            "Your credentails:\n",
            "CLIENT_ID: KL5SVGOS40RKZBQK4G1VXYBKBICWCDQL2NMCASHFYER432SS\n",
            "CLIENT_SECRET:1A5KPYJQIATH0SDZXPPZ5YK0SHLBYVEGPER5AAIIMDXLZ0AB\n"
          ],
          "name": "stdout"
        }
      ]
    },
    {
      "cell_type": "code",
      "metadata": {
        "id": "qfI8wQygHKkx",
        "colab_type": "code",
        "colab": {
          "base_uri": "https://localhost:8080/",
          "height": 1240
        },
        "outputId": "5c019bcc-a7ce-4310-83bb-fc4eb0f06ef8"
      },
      "source": [
        "# will explore features of neighbourhood in Toronto only\n",
        "\n",
        "df_d[df_d['Borough'].str.contains(\"Toronto\")]"
      ],
      "execution_count": 52,
      "outputs": [
        {
          "output_type": "execute_result",
          "data": {
            "text/html": [
              "<div>\n",
              "<style scoped>\n",
              "    .dataframe tbody tr th:only-of-type {\n",
              "        vertical-align: middle;\n",
              "    }\n",
              "\n",
              "    .dataframe tbody tr th {\n",
              "        vertical-align: top;\n",
              "    }\n",
              "\n",
              "    .dataframe thead th {\n",
              "        text-align: right;\n",
              "    }\n",
              "</style>\n",
              "<table border=\"1\" class=\"dataframe\">\n",
              "  <thead>\n",
              "    <tr style=\"text-align: right;\">\n",
              "      <th></th>\n",
              "      <th>Postcode</th>\n",
              "      <th>Latitude</th>\n",
              "      <th>Longitude</th>\n",
              "      <th>Borough</th>\n",
              "      <th>Neighbourhood</th>\n",
              "    </tr>\n",
              "  </thead>\n",
              "  <tbody>\n",
              "    <tr>\n",
              "      <th>37</th>\n",
              "      <td>M4E</td>\n",
              "      <td>43.676357</td>\n",
              "      <td>-79.293031</td>\n",
              "      <td>East Toronto</td>\n",
              "      <td>[The Beaches]</td>\n",
              "    </tr>\n",
              "    <tr>\n",
              "      <th>41</th>\n",
              "      <td>M4K</td>\n",
              "      <td>43.679557</td>\n",
              "      <td>-79.352188</td>\n",
              "      <td>East Toronto</td>\n",
              "      <td>[The Danforth West, Riverdale]</td>\n",
              "    </tr>\n",
              "    <tr>\n",
              "      <th>42</th>\n",
              "      <td>M4L</td>\n",
              "      <td>43.668999</td>\n",
              "      <td>-79.315572</td>\n",
              "      <td>East Toronto</td>\n",
              "      <td>[The Beaches West, India Bazaar]</td>\n",
              "    </tr>\n",
              "    <tr>\n",
              "      <th>43</th>\n",
              "      <td>M4M</td>\n",
              "      <td>43.659526</td>\n",
              "      <td>-79.340923</td>\n",
              "      <td>East Toronto</td>\n",
              "      <td>[Studio District]</td>\n",
              "    </tr>\n",
              "    <tr>\n",
              "      <th>44</th>\n",
              "      <td>M4N</td>\n",
              "      <td>43.728020</td>\n",
              "      <td>-79.388790</td>\n",
              "      <td>Central Toronto</td>\n",
              "      <td>[Lawrence Park]</td>\n",
              "    </tr>\n",
              "    <tr>\n",
              "      <th>45</th>\n",
              "      <td>M4P</td>\n",
              "      <td>43.712751</td>\n",
              "      <td>-79.390197</td>\n",
              "      <td>Central Toronto</td>\n",
              "      <td>[Davisville North]</td>\n",
              "    </tr>\n",
              "    <tr>\n",
              "      <th>46</th>\n",
              "      <td>M4R</td>\n",
              "      <td>43.715383</td>\n",
              "      <td>-79.405678</td>\n",
              "      <td>Central Toronto</td>\n",
              "      <td>[North Toronto West]</td>\n",
              "    </tr>\n",
              "    <tr>\n",
              "      <th>47</th>\n",
              "      <td>M4S</td>\n",
              "      <td>43.704324</td>\n",
              "      <td>-79.388790</td>\n",
              "      <td>Central Toronto</td>\n",
              "      <td>[Davisville]</td>\n",
              "    </tr>\n",
              "    <tr>\n",
              "      <th>48</th>\n",
              "      <td>M4T</td>\n",
              "      <td>43.689574</td>\n",
              "      <td>-79.383160</td>\n",
              "      <td>Central Toronto</td>\n",
              "      <td>[Moore Park, Summerhill East]</td>\n",
              "    </tr>\n",
              "    <tr>\n",
              "      <th>49</th>\n",
              "      <td>M4V</td>\n",
              "      <td>43.686412</td>\n",
              "      <td>-79.400049</td>\n",
              "      <td>Central Toronto</td>\n",
              "      <td>[Deer Park, Forest Hill SE, Rathnelly, South H...</td>\n",
              "    </tr>\n",
              "    <tr>\n",
              "      <th>50</th>\n",
              "      <td>M4W</td>\n",
              "      <td>43.679563</td>\n",
              "      <td>-79.377529</td>\n",
              "      <td>Downtown Toronto</td>\n",
              "      <td>[Rosedale]</td>\n",
              "    </tr>\n",
              "    <tr>\n",
              "      <th>51</th>\n",
              "      <td>M4X</td>\n",
              "      <td>43.667967</td>\n",
              "      <td>-79.367675</td>\n",
              "      <td>Downtown Toronto</td>\n",
              "      <td>[Cabbagetown, St. James Town]</td>\n",
              "    </tr>\n",
              "    <tr>\n",
              "      <th>52</th>\n",
              "      <td>M4Y</td>\n",
              "      <td>43.665860</td>\n",
              "      <td>-79.383160</td>\n",
              "      <td>Downtown Toronto</td>\n",
              "      <td>[Church and Wellesley]</td>\n",
              "    </tr>\n",
              "    <tr>\n",
              "      <th>53</th>\n",
              "      <td>M5A</td>\n",
              "      <td>43.654260</td>\n",
              "      <td>-79.360636</td>\n",
              "      <td>Downtown Toronto</td>\n",
              "      <td>[Harbourfront, Regent Park]</td>\n",
              "    </tr>\n",
              "    <tr>\n",
              "      <th>54</th>\n",
              "      <td>M5B</td>\n",
              "      <td>43.657162</td>\n",
              "      <td>-79.378937</td>\n",
              "      <td>Downtown Toronto</td>\n",
              "      <td>[Ryerson, Garden District]</td>\n",
              "    </tr>\n",
              "    <tr>\n",
              "      <th>55</th>\n",
              "      <td>M5C</td>\n",
              "      <td>43.651494</td>\n",
              "      <td>-79.375418</td>\n",
              "      <td>Downtown Toronto</td>\n",
              "      <td>[St. James Town]</td>\n",
              "    </tr>\n",
              "    <tr>\n",
              "      <th>56</th>\n",
              "      <td>M5E</td>\n",
              "      <td>43.644771</td>\n",
              "      <td>-79.373306</td>\n",
              "      <td>Downtown Toronto</td>\n",
              "      <td>[Berczy Park]</td>\n",
              "    </tr>\n",
              "    <tr>\n",
              "      <th>57</th>\n",
              "      <td>M5G</td>\n",
              "      <td>43.657952</td>\n",
              "      <td>-79.387383</td>\n",
              "      <td>Downtown Toronto</td>\n",
              "      <td>[Central Bay Street]</td>\n",
              "    </tr>\n",
              "    <tr>\n",
              "      <th>58</th>\n",
              "      <td>M5H</td>\n",
              "      <td>43.650571</td>\n",
              "      <td>-79.384568</td>\n",
              "      <td>Downtown Toronto</td>\n",
              "      <td>[Adelaide, King, Richmond]</td>\n",
              "    </tr>\n",
              "    <tr>\n",
              "      <th>59</th>\n",
              "      <td>M5J</td>\n",
              "      <td>43.640816</td>\n",
              "      <td>-79.381752</td>\n",
              "      <td>Downtown Toronto</td>\n",
              "      <td>[Harbourfront East, Toronto Islands, Union Sta...</td>\n",
              "    </tr>\n",
              "    <tr>\n",
              "      <th>60</th>\n",
              "      <td>M5K</td>\n",
              "      <td>43.647177</td>\n",
              "      <td>-79.381576</td>\n",
              "      <td>Downtown Toronto</td>\n",
              "      <td>[Design Exchange, Toronto Dominion Centre]</td>\n",
              "    </tr>\n",
              "    <tr>\n",
              "      <th>61</th>\n",
              "      <td>M5L</td>\n",
              "      <td>43.648198</td>\n",
              "      <td>-79.379817</td>\n",
              "      <td>Downtown Toronto</td>\n",
              "      <td>[Commerce Court, Victoria Hotel]</td>\n",
              "    </tr>\n",
              "    <tr>\n",
              "      <th>63</th>\n",
              "      <td>M5N</td>\n",
              "      <td>43.711695</td>\n",
              "      <td>-79.416936</td>\n",
              "      <td>Central Toronto</td>\n",
              "      <td>[Roselawn]</td>\n",
              "    </tr>\n",
              "    <tr>\n",
              "      <th>64</th>\n",
              "      <td>M5P</td>\n",
              "      <td>43.696948</td>\n",
              "      <td>-79.411307</td>\n",
              "      <td>Central Toronto</td>\n",
              "      <td>[Forest Hill North, Forest Hill West]</td>\n",
              "    </tr>\n",
              "    <tr>\n",
              "      <th>65</th>\n",
              "      <td>M5R</td>\n",
              "      <td>43.672710</td>\n",
              "      <td>-79.405678</td>\n",
              "      <td>Central Toronto</td>\n",
              "      <td>[The Annex, North Midtown, Yorkville]</td>\n",
              "    </tr>\n",
              "    <tr>\n",
              "      <th>66</th>\n",
              "      <td>M5S</td>\n",
              "      <td>43.662696</td>\n",
              "      <td>-79.400049</td>\n",
              "      <td>Downtown Toronto</td>\n",
              "      <td>[Harbord, University of Toronto]</td>\n",
              "    </tr>\n",
              "    <tr>\n",
              "      <th>67</th>\n",
              "      <td>M5T</td>\n",
              "      <td>43.653206</td>\n",
              "      <td>-79.400049</td>\n",
              "      <td>Downtown Toronto</td>\n",
              "      <td>[Chinatown, Grange Park, Kensington Market]</td>\n",
              "    </tr>\n",
              "    <tr>\n",
              "      <th>68</th>\n",
              "      <td>M5V</td>\n",
              "      <td>43.628947</td>\n",
              "      <td>-79.394420</td>\n",
              "      <td>Downtown Toronto</td>\n",
              "      <td>[CN Tower, Bathurst Quay, Island airport, Harb...</td>\n",
              "    </tr>\n",
              "    <tr>\n",
              "      <th>69</th>\n",
              "      <td>M5W</td>\n",
              "      <td>43.646435</td>\n",
              "      <td>-79.374846</td>\n",
              "      <td>Downtown Toronto</td>\n",
              "      <td>[Stn A PO Boxes 25 The Esplanade]</td>\n",
              "    </tr>\n",
              "    <tr>\n",
              "      <th>70</th>\n",
              "      <td>M5X</td>\n",
              "      <td>43.648429</td>\n",
              "      <td>-79.382280</td>\n",
              "      <td>Downtown Toronto</td>\n",
              "      <td>[First Canadian Place, Underground city]</td>\n",
              "    </tr>\n",
              "    <tr>\n",
              "      <th>75</th>\n",
              "      <td>M6G</td>\n",
              "      <td>43.669542</td>\n",
              "      <td>-79.422564</td>\n",
              "      <td>Downtown Toronto</td>\n",
              "      <td>[Christie]</td>\n",
              "    </tr>\n",
              "    <tr>\n",
              "      <th>76</th>\n",
              "      <td>M6H</td>\n",
              "      <td>43.669005</td>\n",
              "      <td>-79.442259</td>\n",
              "      <td>West Toronto</td>\n",
              "      <td>[Dovercourt Village, Dufferin]</td>\n",
              "    </tr>\n",
              "    <tr>\n",
              "      <th>77</th>\n",
              "      <td>M6J</td>\n",
              "      <td>43.647927</td>\n",
              "      <td>-79.419750</td>\n",
              "      <td>West Toronto</td>\n",
              "      <td>[Little Portugal, Trinity]</td>\n",
              "    </tr>\n",
              "    <tr>\n",
              "      <th>78</th>\n",
              "      <td>M6K</td>\n",
              "      <td>43.636847</td>\n",
              "      <td>-79.428191</td>\n",
              "      <td>West Toronto</td>\n",
              "      <td>[Brockton, Exhibition Place, Parkdale Village]</td>\n",
              "    </tr>\n",
              "    <tr>\n",
              "      <th>82</th>\n",
              "      <td>M6P</td>\n",
              "      <td>43.661608</td>\n",
              "      <td>-79.464763</td>\n",
              "      <td>West Toronto</td>\n",
              "      <td>[High Park, The Junction South]</td>\n",
              "    </tr>\n",
              "    <tr>\n",
              "      <th>83</th>\n",
              "      <td>M6R</td>\n",
              "      <td>43.648960</td>\n",
              "      <td>-79.456325</td>\n",
              "      <td>West Toronto</td>\n",
              "      <td>[Parkdale, Roncesvalles]</td>\n",
              "    </tr>\n",
              "    <tr>\n",
              "      <th>84</th>\n",
              "      <td>M6S</td>\n",
              "      <td>43.651571</td>\n",
              "      <td>-79.484450</td>\n",
              "      <td>West Toronto</td>\n",
              "      <td>[Runnymede, Swansea]</td>\n",
              "    </tr>\n",
              "    <tr>\n",
              "      <th>87</th>\n",
              "      <td>M7Y</td>\n",
              "      <td>43.662744</td>\n",
              "      <td>-79.321558</td>\n",
              "      <td>East Toronto</td>\n",
              "      <td>[Business Reply Mail Processing Centre 969 Eas...</td>\n",
              "    </tr>\n",
              "  </tbody>\n",
              "</table>\n",
              "</div>"
            ],
            "text/plain": [
              "   Postcode  ...                                      Neighbourhood\n",
              "37      M4E  ...                                      [The Beaches]\n",
              "41      M4K  ...                     [The Danforth West, Riverdale]\n",
              "42      M4L  ...                   [The Beaches West, India Bazaar]\n",
              "43      M4M  ...                                  [Studio District]\n",
              "44      M4N  ...                                    [Lawrence Park]\n",
              "45      M4P  ...                                 [Davisville North]\n",
              "46      M4R  ...                               [North Toronto West]\n",
              "47      M4S  ...                                       [Davisville]\n",
              "48      M4T  ...                      [Moore Park, Summerhill East]\n",
              "49      M4V  ...  [Deer Park, Forest Hill SE, Rathnelly, South H...\n",
              "50      M4W  ...                                         [Rosedale]\n",
              "51      M4X  ...                      [Cabbagetown, St. James Town]\n",
              "52      M4Y  ...                             [Church and Wellesley]\n",
              "53      M5A  ...                        [Harbourfront, Regent Park]\n",
              "54      M5B  ...                         [Ryerson, Garden District]\n",
              "55      M5C  ...                                   [St. James Town]\n",
              "56      M5E  ...                                      [Berczy Park]\n",
              "57      M5G  ...                               [Central Bay Street]\n",
              "58      M5H  ...                         [Adelaide, King, Richmond]\n",
              "59      M5J  ...  [Harbourfront East, Toronto Islands, Union Sta...\n",
              "60      M5K  ...         [Design Exchange, Toronto Dominion Centre]\n",
              "61      M5L  ...                   [Commerce Court, Victoria Hotel]\n",
              "63      M5N  ...                                         [Roselawn]\n",
              "64      M5P  ...              [Forest Hill North, Forest Hill West]\n",
              "65      M5R  ...              [The Annex, North Midtown, Yorkville]\n",
              "66      M5S  ...                   [Harbord, University of Toronto]\n",
              "67      M5T  ...        [Chinatown, Grange Park, Kensington Market]\n",
              "68      M5V  ...  [CN Tower, Bathurst Quay, Island airport, Harb...\n",
              "69      M5W  ...                  [Stn A PO Boxes 25 The Esplanade]\n",
              "70      M5X  ...           [First Canadian Place, Underground city]\n",
              "75      M6G  ...                                         [Christie]\n",
              "76      M6H  ...                     [Dovercourt Village, Dufferin]\n",
              "77      M6J  ...                         [Little Portugal, Trinity]\n",
              "78      M6K  ...     [Brockton, Exhibition Place, Parkdale Village]\n",
              "82      M6P  ...                    [High Park, The Junction South]\n",
              "83      M6R  ...                           [Parkdale, Roncesvalles]\n",
              "84      M6S  ...                               [Runnymede, Swansea]\n",
              "87      M7Y  ...  [Business Reply Mail Processing Centre 969 Eas...\n",
              "\n",
              "[38 rows x 5 columns]"
            ]
          },
          "metadata": {
            "tags": []
          },
          "execution_count": 52
        }
      ]
    }
  ]
}